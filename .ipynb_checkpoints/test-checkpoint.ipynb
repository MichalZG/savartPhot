{
 "cells": [
  {
   "cell_type": "code",
   "execution_count": null,
   "metadata": {},
   "outputs": [],
   "source": [
    "%load_ext autoreload\n",
    "%autoreload 2\n",
    "%matplotlib inline\n",
    "from src.pipeline.list_objects import List_objects\n",
    "from src.pipeline.stack import Stack\n",
    "from src.pipeline.savartphot import Savartphot\n",
    "import matplotlib.pyplot as plt\n",
    "import numpy as np"
   ]
  },
  {
   "cell_type": "code",
   "execution_count": null,
   "metadata": {},
   "outputs": [],
   "source": [
    "#l = List_objects(\"/home/pi/Programs/python-programs/savartPhot/var/pipeline_config_files/config_list_objects.cfg\")\n",
    "#l.show_objects(\"/home/pi/kolchoz/savarts/dane_suhora/2017-11-16/all/\")\n",
    "#l.create_stars_list(\"/home/pi/kolchoz/savarts/dane_suhora/2017-11-16/all/\")\n",
    "st = Stack(\"/home/pi/Programs/python-programs/savartPhot/var/pipeline_config_files/config_stack.cfg\",\n",
    "           \"/home/pi/kolchoz/savarts/dane_suhora/2017-11-16/hd183143/\",\n",
    "           4, \"/home/pi/kolchoz/savarts/dane_suhora/2017-11-16/hd183143/output\", log_file_name='stack')\n",
    "im_list = st._create_images_list(\"/home/pi/kolchoz/savarts/dane_suhora/2017-11-16/hd183143/\")\n",
    "st.process()"
   ]
  },
  {
   "cell_type": "code",
   "execution_count": 2,
   "metadata": {},
   "outputs": [],
   "source": [
    "sp = Savartphot(\"/home/pi/Programs/python-programs/savartPhot/var/pipeline_config_files/config_savartphot.cfg\",\n",
    "                \"/home/pi/kolchoz/savarts/dane_suhora/2017-11-16/hd204827/output/\",\n",
    "                \"/home/pi/kolchoz/savarts/dane_suhora/2017-11-16/hd204827/output/coo.dat\",\n",
    "                \"/home/pi/kolchoz/savarts/dane_suhora/2017-11-16/hd204827/phot_output/\"\n",
    "               )"
   ]
  },
  {
   "cell_type": "code",
   "execution_count": 3,
   "metadata": {
    "scrolled": true
   },
   "outputs": [
    {
     "name": "stderr",
     "output_type": "stream",
     "text": [
      "WARNING: AstropyDeprecationWarning: The properties_table function is deprecated and may be removed in a future version.\n",
      "        Use SourceCatalog.to_table() instead. [src.pipeline.savartphot]\n",
      "WARNING: AstropyDeprecationWarning: The properties_table function is deprecated and may be removed in a future version.\n",
      "        Use SourceCatalog.to_table() instead. [src.pipeline.savartphot]\n"
     ]
    },
    {
     "name": "stdout",
     "output_type": "stream",
     "text": [
      "sigma_value(mean=1344.1468605141172, median=1343.5, std=4.413879247190389)\n",
      "ann: 1343.46, mask: 1343.5\n",
      "sigma_value(mean=1343.8610869565218, median=1343.5, std=4.008109566464768)\n",
      "ann: 1343.33, mask: 1343.5\n",
      "sigma_value(mean=1343.9706379383185, median=1343.5, std=4.672715134097589)\n",
      "ann: 1342.94, mask: 1343.5\n",
      "sigma_value(mean=1343.0670912951168, median=1343.0, std=3.9448910536016353)\n",
      "ann: 1342.79, mask: 1343.0\n",
      "sigma_value(mean=1344.1434528773977, median=1343.5, std=4.961555799430796)\n",
      "ann: 1342.86, mask: 1343.5\n",
      "sigma_value(mean=1343.1215932914047, median=1343.0, std=4.140141377663443)\n",
      "ann: 1342.64, mask: 1343.0\n",
      "sigma_value(mean=1343.87235841082, median=1343.5, std=4.614672666703801)\n",
      "ann: 1342.78, mask: 1343.5\n",
      "sigma_value(mean=1343.0355042016806, median=1342.5, std=4.007280658400711)\n",
      "ann: 1342.48, mask: 1342.5\n",
      "sigma_value(mean=1343.977975434138, median=1343.5, std=4.790036900050331)\n",
      "ann: 1342.92, mask: 1343.5\n",
      "sigma_value(mean=1343.191795085381, median=1343.0, std=4.158682369660005)\n",
      "ann: 1342.73, mask: 1343.0\n",
      "sigma_value(mean=1344.0023022185014, median=1343.5, std=4.751670735134676)\n",
      "ann: 1342.96, mask: 1343.5\n",
      "sigma_value(mean=1343.1894034209429, median=1343.0, std=4.117790641745871)\n",
      "ann: 1342.75, mask: 1343.0\n",
      "sigma_value(mean=1344.0700836820083, median=1343.5, std=4.68262661795776)\n",
      "ann: 1343.10, mask: 1343.5\n",
      "sigma_value(mean=1343.1581825830879, median=1343.0, std=3.9934750814590423)\n",
      "ann: 1342.71, mask: 1343.0\n",
      "sigma_value(mean=1344.3866498740554, median=1344.0, std=4.814894130228031)\n",
      "ann: 1343.29, mask: 1344.0\n",
      "sigma_value(mean=1343.4504391468006, median=1343.0, std=4.213627145067274)\n",
      "ann: 1342.95, mask: 1343.0\n",
      "sigma_value(mean=1344.354264894985, median=1344.0, std=4.625075157892817)\n",
      "ann: 1343.29, mask: 1344.0\n",
      "sigma_value(mean=1343.3509184109355, median=1343.0, std=3.918922567531838)\n",
      "ann: 1343.13, mask: 1343.0\n",
      "sigma_value(mean=1344.14169867691, median=1343.5, std=4.715642463219183)\n",
      "ann: 1343.01, mask: 1343.5\n",
      "sigma_value(mean=1343.4060773480662, median=1343.0, std=4.097346227592245)\n",
      "ann: 1342.91, mask: 1343.0\n",
      "sigma_value(mean=1344.202385935538, median=1343.5, std=4.615813374710679)\n",
      "ann: 1343.15, mask: 1343.5\n",
      "sigma_value(mean=1343.352417302799, median=1343.0, std=3.9997689299974843)\n",
      "ann: 1342.98, mask: 1343.0\n",
      "sigma_value(mean=1344.1503225806453, median=1344.0, std=4.5099513507646956)\n",
      "ann: 1343.14, mask: 1344.0\n",
      "sigma_value(mean=1343.6907698851553, median=1343.5, std=4.057209436016608)\n",
      "ann: 1343.31, mask: 1343.5\n",
      "sigma_value(mean=1344.3296656792213, median=1344.0, std=4.919159878757213)\n",
      "ann: 1343.18, mask: 1344.0\n",
      "sigma_value(mean=1343.2516992353442, median=1343.0, std=3.9981738717645747)\n",
      "ann: 1343.14, mask: 1343.0\n",
      "sigma_value(mean=1344.1732150401351, median=1343.5, std=4.678081360886372)\n",
      "ann: 1343.18, mask: 1343.5\n",
      "sigma_value(mean=1343.2589098532494, median=1343.0, std=4.04937416111371)\n",
      "ann: 1343.02, mask: 1343.0\n",
      "sigma_value(mean=1344.2051709758132, median=1343.5, std=4.752180302904944)\n",
      "ann: 1342.94, mask: 1343.5\n",
      "sigma_value(mean=1343.2803189257238, median=1343.0, std=4.009496017213454)\n",
      "ann: 1342.96, mask: 1343.0\n",
      "sigma_value(mean=1344.0649895178196, median=1343.5, std=4.776094675129679)\n",
      "ann: 1342.91, mask: 1343.5\n",
      "sigma_value(mean=1343.2406171809841, median=1343.0, std=4.090544431677524)\n",
      "ann: 1342.86, mask: 1343.0\n",
      "sigma_value(mean=1344.1660408844389, median=1343.5, std=4.912348777975374)\n",
      "ann: 1342.75, mask: 1343.5\n",
      "sigma_value(mean=1343.1647869674186, median=1343.0, std=4.197218394109389)\n",
      "ann: 1342.78, mask: 1343.0\n",
      "sigma_value(mean=1344.130160067397, median=1343.5, std=4.936252451423515)\n",
      "ann: 1342.96, mask: 1343.5\n",
      "sigma_value(mean=1343.140380549683, median=1343.0, std=4.114682299522827)\n",
      "ann: 1342.92, mask: 1343.0\n",
      "sigma_value(mean=1344.0261934938742, median=1343.5, std=4.608540592124647)\n",
      "ann: 1342.97, mask: 1343.5\n",
      "sigma_value(mean=1343.1706751054853, median=1343.0, std=4.029883724795521)\n",
      "ann: 1342.75, mask: 1343.0\n",
      "sigma_value(mean=1343.8919882550335, median=1343.5, std=4.29203144982711)\n",
      "ann: 1343.41, mask: 1343.5\n",
      "sigma_value(mean=1344.5221757322176, median=1344.0, std=4.635244491987336)\n",
      "ann: 1343.53, mask: 1344.0\n",
      "sigma_value(mean=1343.4506329113924, median=1343.0, std=4.229079761978775)\n",
      "ann: 1342.94, mask: 1343.0\n",
      "sigma_value(mean=1343.622992392223, median=1343.0, std=4.383998858421809)\n",
      "ann: 1343.03, mask: 1343.0\n",
      "sigma_value(mean=1343.346445098864, median=1343.0, std=4.1273609381124166)\n",
      "ann: 1343.10, mask: 1343.0\n",
      "sigma_value(mean=1343.5054598908023, median=1343.0, std=4.233346402618256)\n",
      "ann: 1342.86, mask: 1343.0\n",
      "sigma_value(mean=1343.2182952182952, median=1343.0, std=4.216510218685669)\n",
      "ann: 1342.81, mask: 1343.0\n",
      "sigma_value(mean=1343.3188860971525, median=1343.0, std=4.297335577317423)\n",
      "ann: 1342.69, mask: 1343.0\n",
      "sigma_value(mean=1343.3578574406004, median=1343.0, std=4.285654180859412)\n",
      "ann: 1342.99, mask: 1343.0\n",
      "sigma_value(mean=1343.454064352244, median=1343.0, std=4.354466012219441)\n",
      "ann: 1342.88, mask: 1343.0\n",
      "sigma_value(mean=1343.38570241064, median=1343.0, std=4.3728963907356535)\n",
      "ann: 1342.93, mask: 1343.0\n",
      "sigma_value(mean=1343.626875, median=1343.5, std=4.522449399131883)\n",
      "ann: 1343.05, mask: 1343.5\n",
      "sigma_value(mean=1343.3170731707316, median=1343.0, std=4.14134352218479)\n",
      "ann: 1342.90, mask: 1343.0\n",
      "sigma_value(mean=1343.6621395737568, median=1343.0, std=4.509964351973624)\n",
      "ann: 1342.74, mask: 1343.0\n",
      "sigma_value(mean=1343.5603046974186, median=1343.5, std=4.206209090559734)\n",
      "ann: 1343.25, mask: 1343.5\n",
      "sigma_value(mean=1343.7785805354865, median=1343.5, std=4.256174258602099)\n",
      "ann: 1343.14, mask: 1343.5\n",
      "sigma_value(mean=1343.758686440678, median=1343.5, std=4.364500569791971)\n",
      "ann: 1343.16, mask: 1343.5\n",
      "sigma_value(mean=1344.035790370686, median=1343.5, std=4.528797860267767)\n",
      "ann: 1343.00, mask: 1343.5\n",
      "sigma_value(mean=1343.2032622333752, median=1343.0, std=4.07113219359899)\n",
      "ann: 1342.90, mask: 1343.0\n",
      "sigma_value(mean=1343.5292262405383, median=1343.0, std=4.2572462727523765)\n",
      "ann: 1342.95, mask: 1343.0\n",
      "sigma_value(mean=1343.3729096989966, median=1343.0, std=4.111676036358669)\n",
      "ann: 1342.97, mask: 1343.0\n",
      "sigma_value(mean=1343.6035428089415, median=1343.0, std=4.140908557061343)\n",
      "ann: 1343.03, mask: 1343.0\n",
      "sigma_value(mean=1343.637035472973, median=1343.5, std=4.086495247461503)\n",
      "ann: 1343.11, mask: 1343.5\n",
      "sigma_value(mean=1343.8430282292559, median=1343.5, std=4.195622355046546)\n",
      "ann: 1343.38, mask: 1343.5\n",
      "sigma_value(mean=1344.0168032786885, median=1343.5, std=4.628418588830517)\n",
      "ann: 1343.24, mask: 1343.5\n",
      "sigma_value(mean=1343.6814550042052, median=1343.5, std=4.390976878810249)\n",
      "ann: 1343.00, mask: 1343.5\n",
      "sigma_value(mean=1343.3793031066332, median=1343.0, std=4.138023275189556)\n",
      "ann: 1342.98, mask: 1343.0\n",
      "sigma_value(mean=1343.6672971836906, median=1343.0, std=4.2792359514571565)\n",
      "ann: 1343.12, mask: 1343.0\n",
      "sigma_value(mean=1343.3932181971356, median=1343.0, std=4.188617424396584)\n",
      "ann: 1343.14, mask: 1343.0\n",
      "sigma_value(mean=1343.617088607595, median=1343.0, std=4.297323173849405)\n",
      "ann: 1343.21, mask: 1343.0\n",
      "sigma_value(mean=1343.351090604027, median=1343.0, std=4.169044257217299)\n",
      "ann: 1343.01, mask: 1343.0\n",
      "sigma_value(mean=1343.5098822539949, median=1343.25, std=4.193391501181708)\n",
      "ann: 1343.16, mask: 1343.25\n",
      "sigma_value(mean=1343.3640918580377, median=1343.0, std=4.359665761632277)\n",
      "ann: 1342.90, mask: 1343.0\n",
      "sigma_value(mean=1343.6212694409417, median=1343.0, std=4.329933533884273)\n",
      "ann: 1343.00, mask: 1343.0\n",
      "sigma_value(mean=1343.50456053068, median=1343.0, std=4.40958316011892)\n",
      "ann: 1342.92, mask: 1343.0\n",
      "sigma_value(mean=1343.7366888519134, median=1343.5, std=4.634423396460744)\n",
      "ann: 1342.97, mask: 1343.5\n",
      "sigma_value(mean=1343.3329827513674, median=1343.0, std=4.115685856364201)\n",
      "ann: 1342.97, mask: 1343.0\n",
      "sigma_value(mean=1343.5101437024514, median=1343.0, std=4.332066859600958)\n",
      "ann: 1342.97, mask: 1343.0\n"
     ]
    },
    {
     "data": {
      "text/plain": [
       "<matplotlib.figure.Figure at 0x7f3f529e4ac8>"
      ]
     },
     "metadata": {},
     "output_type": "display_data"
    },
    {
     "data": {
      "text/plain": [
       "<matplotlib.figure.Figure at 0x7f3f52611208>"
      ]
     },
     "metadata": {},
     "output_type": "display_data"
    },
    {
     "data": {
      "text/plain": [
       "<matplotlib.figure.Figure at 0x7f3f527063c8>"
      ]
     },
     "metadata": {},
     "output_type": "display_data"
    }
   ],
   "source": [
    "sp.make_phot()"
   ]
  },
  {
   "cell_type": "code",
   "execution_count": null,
   "metadata": {},
   "outputs": [],
   "source": [
    "tab = np.loadtxt('/home/pi/kolchoz/savarts/dane_suhora/2017-11-16/test/phot_output/PD.csv', delimiter=',')"
   ]
  },
  {
   "cell_type": "code",
   "execution_count": null,
   "metadata": {},
   "outputs": [],
   "source": [
    "tab[:,0]"
   ]
  },
  {
   "cell_type": "code",
   "execution_count": null,
   "metadata": {},
   "outputs": [],
   "source": [
    "plt.rcParams['figure.figsize'] = 10, 5\n",
    "\n",
    "fig = plt.figure()\n",
    "ax = fig.add_subplot(111)\n",
    "mean = [np.mean(tab[:,1])]*len(tab[:,0])\n",
    "std = [np.std(tab[:,1])]*len(tab[:,0])\n",
    "ax.errorbar(tab[:,0], tab[:,1], yerr=tab[:,2], fmt='o')\n",
    "ax.plot(tab[:,0], mean, label='Mean={:.2f}'.format(np.mean(tab[:,1])), linestyle='--', c='r')\n",
    "ax.plot(tab[:,0], mean-np.std(tab[:,1]), linestyle='--', c='k')\n",
    "ax.plot(tab[:,0], mean+np.std(tab[:,1]), label='std={:.2f}'.format(np.std(tab[:,1])), linestyle='--', c='k')\n",
    "ax.set_xlabel('JD')\n",
    "ax.set_ylabel('PD[%]')\n",
    "plt.legend(loc='upper right')"
   ]
  },
  {
   "cell_type": "code",
   "execution_count": null,
   "metadata": {},
   "outputs": [],
   "source": []
  },
  {
   "cell_type": "code",
   "execution_count": null,
   "metadata": {},
   "outputs": [],
   "source": []
  },
  {
   "cell_type": "code",
   "execution_count": null,
   "metadata": {},
   "outputs": [],
   "source": []
  },
  {
   "cell_type": "code",
   "execution_count": null,
   "metadata": {},
   "outputs": [],
   "source": []
  },
  {
   "cell_type": "code",
   "execution_count": null,
   "metadata": {},
   "outputs": [],
   "source": []
  },
  {
   "cell_type": "code",
   "execution_count": null,
   "metadata": {},
   "outputs": [],
   "source": []
  },
  {
   "cell_type": "code",
   "execution_count": null,
   "metadata": {},
   "outputs": [],
   "source": []
  }
 ],
 "metadata": {
  "kernelspec": {
   "display_name": "Python 3",
   "language": "python",
   "name": "python3"
  },
  "language_info": {
   "codemirror_mode": {
    "name": "ipython",
    "version": 3
   },
   "file_extension": ".py",
   "mimetype": "text/x-python",
   "name": "python",
   "nbconvert_exporter": "python",
   "pygments_lexer": "ipython3",
   "version": "3.6.4"
  }
 },
 "nbformat": 4,
 "nbformat_minor": 2
}
