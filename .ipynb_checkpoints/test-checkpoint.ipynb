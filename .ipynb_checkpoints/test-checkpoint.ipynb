{
 "cells": [
  {
   "cell_type": "code",
   "execution_count": 153,
   "metadata": {},
   "outputs": [
    {
     "name": "stdout",
     "output_type": "stream",
     "text": [
      "The autoreload extension is already loaded. To reload it, use:\n",
      "  %reload_ext autoreload\n"
     ]
    }
   ],
   "source": [
    "%load_ext autoreload\n",
    "%autoreload 2\n",
    "\n",
    "from src.pipeline.list_objects import List_objects\n",
    "from src.pipeline.stack import Stack"
   ]
  },
  {
   "cell_type": "code",
   "execution_count": 7,
   "metadata": {},
   "outputs": [
    {
     "name": "stdout",
     "output_type": "stream",
     "text": [
      "HD183143: 316\n",
      "HD204827: 400\n",
      "Hiltner960: 200\n"
     ]
    }
   ],
   "source": [
    "l = List_objects(\"/home/pi/Programs/python-programs/savartPhot/var/pipeline_config_files/config_list_objects.cfg\")\n",
    "l.show_objects(\"/home/pi/kolchoz/savarts/dane_suhora/2017-11-16/all/\")"
   ]
  },
  {
   "cell_type": "code",
   "execution_count": 85,
   "metadata": {},
   "outputs": [
    {
     "data": {
      "text/plain": [
       "{'HD183143': <src.utils.model.Star at 0x7fa3da2aebe0>,\n",
       " 'HD204827': <src.utils.model.Star at 0x7fa3d42ac7f0>,\n",
       " 'Hiltner960': <src.utils.model.Star at 0x7fa3d42ac6a0>}"
      ]
     },
     "execution_count": 85,
     "metadata": {},
     "output_type": "execute_result"
    }
   ],
   "source": [
    "l.create_stars_list(\"/home/pi/kolchoz/savarts/dane_suhora/2017-11-16/all/\")"
   ]
  },
  {
   "cell_type": "code",
   "execution_count": 154,
   "metadata": {},
   "outputs": [],
   "source": [
    "st = Stack(\"/home/pi/Programs/python-programs/savartPhot/var/pipeline_config_files/config_stack.cfg\",\n",
    "           \"/home/pi/kolchoz/savarts/dane_suhora/2017-11-16/test/\",\n",
    "           4, \"/home/pi/kolchoz/savarts/dane_suhora/2017-11-16/test/output\", log_file_name='stack')"
   ]
  },
  {
   "cell_type": "code",
   "execution_count": 155,
   "metadata": {},
   "outputs": [],
   "source": [
    "im_list = st._create_images_list(\"/home/pi/kolchoz/savarts/dane_suhora/2017-11-16/test/\")\n",
    "#"
   ]
  },
  {
   "cell_type": "code",
   "execution_count": 156,
   "metadata": {},
   "outputs": [
    {
     "data": {
      "text/plain": [
       "[<src.utils.model.Image at 0x7f93e38c57b8>,\n",
       " <src.utils.model.Image at 0x7f93e38c5f60>,\n",
       " <src.utils.model.Image at 0x7f93e3ac0048>,\n",
       " <src.utils.model.Image at 0x7f93e3811ac8>,\n",
       " <src.utils.model.Image at 0x7f93e38c5390>,\n",
       " <src.utils.model.Image at 0x7f93e38a7ef0>,\n",
       " <src.utils.model.Image at 0x7f93e38ab8d0>,\n",
       " <src.utils.model.Image at 0x7f93e38b26d8>,\n",
       " <src.utils.model.Image at 0x7f93e38b6ba8>,\n",
       " <src.utils.model.Image at 0x7f93e38bba20>,\n",
       " <src.utils.model.Image at 0x7f93e38bf898>,\n",
       " <src.utils.model.Image at 0x7f93e3815e48>,\n",
       " <src.utils.model.Image at 0x7f93e3818cc0>,\n",
       " <src.utils.model.Image at 0x7f93e381fb38>,\n",
       " <src.utils.model.Image at 0x7f93e38bffd0>,\n",
       " <src.utils.model.Image at 0x7f93e3825978>,\n",
       " <src.utils.model.Image at 0x7f93e3acef28>,\n",
       " <src.utils.model.Image at 0x7f93e3ad9da0>,\n",
       " <src.utils.model.Image at 0x7f93e3addc50>,\n",
       " <src.utils.model.Image at 0x7f93e3ae4a90>,\n",
       " <src.utils.model.Image at 0x7f93e3927908>,\n",
       " <src.utils.model.Image at 0x7f93e3931cc0>,\n",
       " <src.utils.model.Image at 0x7f93e393bd30>,\n",
       " <src.utils.model.Image at 0x7f93e393dba8>,\n",
       " <src.utils.model.Image at 0x7f93e3931ac8>,\n",
       " <src.utils.model.Image at 0x7f93e3943390>,\n",
       " <src.utils.model.Image at 0x7f93e394cf98>,\n",
       " <src.utils.model.Image at 0x7f93e3953e10>,\n",
       " <src.utils.model.Image at 0x7f93e395ac88>,\n",
       " <src.utils.model.Image at 0x7f93e3961b00>,\n",
       " <src.utils.model.Image at 0x7f93e3908978>,\n",
       " <src.utils.model.Image at 0x7f93e38e9cc0>,\n",
       " <src.utils.model.Image at 0x7f93e38f0da0>,\n",
       " <src.utils.model.Image at 0x7f93e38f6c18>,\n",
       " <src.utils.model.Image at 0x7f93e38e9ba8>]"
      ]
     },
     "execution_count": 156,
     "metadata": {},
     "output_type": "execute_result"
    }
   ],
   "source": [
    "im_list"
   ]
  },
  {
   "cell_type": "code",
   "execution_count": 157,
   "metadata": {},
   "outputs": [],
   "source": [
    "im = im_list[0]"
   ]
  },
  {
   "cell_type": "code",
   "execution_count": null,
   "metadata": {},
   "outputs": [],
   "source": []
  },
  {
   "cell_type": "code",
   "execution_count": 158,
   "metadata": {},
   "outputs": [
    {
     "name": "stdout",
     "output_type": "stream",
     "text": [
      "dict_items([('P1', [<src.utils.model.Image object at 0x7f93e3a0b780>, <src.utils.model.Image object at 0x7f93e3a0b8d0>, <src.utils.model.Image object at 0x7f93e3a0edd8>, <src.utils.model.Image object at 0x7f93e3a14c50>, <src.utils.model.Image object at 0x7f93e3a23ac8>, <src.utils.model.Image object at 0x7f93e3a0bf60>, <src.utils.model.Image object at 0x7f93e3a26ef0>, <src.utils.model.Image object at 0x7f93e386eeb8>, <src.utils.model.Image object at 0x7f93e3874d30>]), ('P3', [<src.utils.model.Image object at 0x7f93e382bda0>, <src.utils.model.Image object at 0x7f93e3830c18>, <src.utils.model.Image object at 0x7f93e3835a90>, <src.utils.model.Image object at 0x7f93e383c908>, <src.utils.model.Image object at 0x7f93e3844780>, <src.utils.model.Image object at 0x7f93e3849d30>, <src.utils.model.Image object at 0x7f93e384fba8>, <src.utils.model.Image object at 0x7f93e3844eb8>])])\n"
     ]
    },
    {
     "name": "stderr",
     "output_type": "stream",
     "text": [
      "WARNING: AstropyDeprecationWarning: \"clobber\" was deprecated in version 2.0 and will be removed in a future version. Use argument \"overwrite\" instead. [astropy.nddata.ccddata]\n",
      "WARNING: VerifyWarning: Verification reported errors: [astropy.io.fits.verify]\n",
      "WARNING: VerifyWarning: HDU 0: [astropy.io.fits.verify]\n",
      "WARNING: VerifyWarning:     'SIMPLE' card does not exist.  Fixed by inserting a new 'SIMPLE' card. [astropy.io.fits.verify]\n",
      "WARNING: VerifyWarning:     'BITPIX' card at the wrong place (card 2).  Fixed by moving it to the right place (card 1). [astropy.io.fits.verify]\n",
      "WARNING: VerifyWarning:     'NAXIS' card at the wrong place (card 3).  Fixed by moving it to the right place (card 2). [astropy.io.fits.verify]\n",
      "WARNING: VerifyWarning:     'NAXIS1' card at the wrong place (card 4).  Fixed by moving it to the right place (card 3). [astropy.io.fits.verify]\n",
      "WARNING: VerifyWarning:     'NAXIS2' card at the wrong place (card 5).  Fixed by moving it to the right place (card 4). [astropy.io.fits.verify]\n",
      "WARNING: VerifyWarning: Note: astropy.io.fits uses zero-based indexing.\n",
      " [astropy.io.fits.verify]\n"
     ]
    }
   ],
   "source": [
    "st.process()"
   ]
  },
  {
   "cell_type": "code",
   "execution_count": 78,
   "metadata": {},
   "outputs": [
    {
     "name": "stderr",
     "output_type": "stream",
     "text": [
      "WARNING: AstropyDeprecationWarning: \"clobber\" was deprecated in version 2.0 and will be removed in a future version. Use argument \"overwrite\" instead. [astropy.nddata.ccddata]\n",
      "WARNING: VerifyWarning: Verification reported errors: [astropy.io.fits.verify]\n",
      "WARNING: VerifyWarning: HDU 0: [astropy.io.fits.verify]\n",
      "WARNING: VerifyWarning:     'SIMPLE' card does not exist.  Fixed by inserting a new 'SIMPLE' card. [astropy.io.fits.verify]\n",
      "WARNING: VerifyWarning:     'BITPIX' card at the wrong place (card 2).  Fixed by moving it to the right place (card 1). [astropy.io.fits.verify]\n",
      "WARNING: VerifyWarning:     'NAXIS' card at the wrong place (card 3).  Fixed by moving it to the right place (card 2). [astropy.io.fits.verify]\n",
      "WARNING: VerifyWarning:     'NAXIS1' card at the wrong place (card 4).  Fixed by moving it to the right place (card 3). [astropy.io.fits.verify]\n",
      "WARNING: VerifyWarning:     'NAXIS2' card at the wrong place (card 5).  Fixed by moving it to the right place (card 4). [astropy.io.fits.verify]\n",
      "WARNING: VerifyWarning: Note: astropy.io.fits uses zero-based indexing.\n",
      " [astropy.io.fits.verify]\n"
     ]
    }
   ],
   "source": []
  },
  {
   "cell_type": "code",
   "execution_count": 79,
   "metadata": {},
   "outputs": [
    {
     "name": "stdout",
     "output_type": "stream",
     "text": [
      "P1 [<src.utils.model.Image object at 0x7f93e4349240>, <src.utils.model.Image object at 0x7f93e48eebe0>, <src.utils.model.Image object at 0x7f93e48f15c0>, <src.utils.model.Image object at 0x7f93e494e780>, <src.utils.model.Image object at 0x7f93e48db630>, <src.utils.model.Image object at 0x7f93e495dd30>, <src.utils.model.Image object at 0x7f93e444e2e8>, <src.utils.model.Image object at 0x7f93e48fdd68>, <src.utils.model.Image object at 0x7f93e42e55f8>]\n",
      "P2 [<src.utils.model.Image object at 0x7f93e443c588>, <src.utils.model.Image object at 0x7f93e4440cf8>, <src.utils.model.Image object at 0x7f93e4447b70>, <src.utils.model.Image object at 0x7f93e42e5e80>, <src.utils.model.Image object at 0x7f93e426b9b0>, <src.utils.model.Image object at 0x7f93e4272f60>, <src.utils.model.Image object at 0x7f93e4279dd8>, <src.utils.model.Image object at 0x7f93e4280c50>, <src.utils.model.Image object at 0x7f93e4284ac8>]\n"
     ]
    }
   ],
   "source": []
  },
  {
   "cell_type": "code",
   "execution_count": null,
   "metadata": {},
   "outputs": [],
   "source": []
  }
 ],
 "metadata": {
  "kernelspec": {
   "display_name": "Python [conda env:savart]",
   "language": "python",
   "name": "conda-env-savart-py"
  },
  "language_info": {
   "codemirror_mode": {
    "name": "ipython",
    "version": 3
   },
   "file_extension": ".py",
   "mimetype": "text/x-python",
   "name": "python",
   "nbconvert_exporter": "python",
   "pygments_lexer": "ipython3",
   "version": "3.6.4"
  }
 },
 "nbformat": 4,
 "nbformat_minor": 2
}
