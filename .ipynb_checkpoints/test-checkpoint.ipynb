{
 "cells": [
  {
   "cell_type": "code",
   "execution_count": null,
   "metadata": {},
   "outputs": [],
   "source": [
    "%load_ext autoreload\n",
    "%autoreload 2\n",
    "\n",
    "from src.pipeline.list_objects import List_objects\n",
    "from src.pipeline.stack import Stack\n",
    "from src.pipeline.savartphot import Savartphot"
   ]
  },
  {
   "cell_type": "code",
   "execution_count": null,
   "metadata": {},
   "outputs": [],
   "source": [
    "# l = List_objects(\"/home/pi/Programs/python-programs/savartPhot/var/pipeline_config_files/config_list_objects.cfg\")\n",
    "# l.show_objects(\"/home/pi/kolchoz/savarts/dane_suhora/2017-11-16/all/\")\n",
    "# l.create_stars_list(\"/home/pi/kolchoz/savarts/dane_suhora/2017-11-16/all/\")\n",
    "# st = Stack(\"/home/pi/Programs/python-programs/savartPhot/var/pipeline_config_files/config_stack.cfg\",\n",
    "#            \"/home/pi/kolchoz/savarts/dane_suhora/2017-11-16/test/\",\n",
    "#            4, \"/home/pi/kolchoz/savarts/dane_suhora/2017-11-16/test/output\", log_file_name='stack')\n",
    "# im_list = st._create_images_list(\"/home/pi/kolchoz/savarts/dane_suhora/2017-11-16/test/\")\n",
    "# st.process()"
   ]
  },
  {
   "cell_type": "code",
   "execution_count": null,
   "metadata": {},
   "outputs": [],
   "source": [
    "sp = Savartphot(\"/home/pi/Programs/python-programs/savartPhot/var/pipeline_config_files/config_savartphot.cfg\",\n",
    "                \"/home/pi/kolchoz/savarts/dane_suhora/2017-11-16/test/output/\",\n",
    "                \"/home/pi/kolchoz/savarts/dane_suhora/2017-11-16/test/output/coo.dat\",\n",
    "                \"/home/pi/kolchoz/savarts/dane_suhora/2017-11-16/test/phot_output/\"\n",
    "               )"
   ]
  },
  {
   "cell_type": "code",
   "execution_count": null,
   "metadata": {
    "scrolled": false
   },
   "outputs": [],
   "source": [
    "sp.make_phot()"
   ]
  },
  {
   "cell_type": "code",
   "execution_count": null,
   "metadata": {},
   "outputs": [],
   "source": []
  },
  {
   "cell_type": "code",
   "execution_count": null,
   "metadata": {},
   "outputs": [],
   "source": []
  },
  {
   "cell_type": "code",
   "execution_count": null,
   "metadata": {},
   "outputs": [],
   "source": []
  },
  {
   "cell_type": "code",
   "execution_count": null,
   "metadata": {},
   "outputs": [],
   "source": []
  },
  {
   "cell_type": "code",
   "execution_count": null,
   "metadata": {},
   "outputs": [],
   "source": []
  },
  {
   "cell_type": "code",
   "execution_count": null,
   "metadata": {},
   "outputs": [],
   "source": []
  },
  {
   "cell_type": "code",
   "execution_count": null,
   "metadata": {},
   "outputs": [],
   "source": []
  },
  {
   "cell_type": "code",
   "execution_count": null,
   "metadata": {},
   "outputs": [],
   "source": []
  },
  {
   "cell_type": "code",
   "execution_count": null,
   "metadata": {},
   "outputs": [],
   "source": []
  }
 ],
 "metadata": {
  "kernelspec": {
   "display_name": "Python 3",
   "language": "python",
   "name": "python3"
  },
  "language_info": {
   "codemirror_mode": {
    "name": "ipython",
    "version": 3
   },
   "file_extension": ".py",
   "mimetype": "text/x-python",
   "name": "python",
   "nbconvert_exporter": "python",
   "pygments_lexer": "ipython3",
   "version": "3.6.4"
  }
 },
 "nbformat": 4,
 "nbformat_minor": 2
}
