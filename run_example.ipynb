{
 "cells": [
  {
   "cell_type": "code",
   "execution_count": 1,
   "metadata": {},
   "outputs": [],
   "source": [
    "%load_ext autoreload\n",
    "%autoreload 2\n",
    "%matplotlib inline\n",
    "from src.pipeline.list_objects import List_objects\n",
    "from src.pipeline.stack import Stack\n",
    "from src.pipeline.savartphot import Savartphot\n",
    "import matplotlib.pyplot as plt\n",
    "import numpy as np"
   ]
  },
  {
   "cell_type": "code",
   "execution_count": 2,
   "metadata": {},
   "outputs": [
    {
     "name": "stdout",
     "output_type": "stream",
     "text": [
      "HD183143: 316\n",
      "HD204827: 400\n",
      "Hiltner960: 200\n"
     ]
    }
   ],
   "source": [
    "l = List_objects(\"/home/pi/Programs/python-programs/savartPhot/var/pipeline_config_files/config_list_objects.cfg\",\n",
    "                 \"/home/pi/kolchoz/savarts/dane_suhora/2017-11-16/all/\")\n",
    "\n",
    "l.show_objects()"
   ]
  },
  {
   "cell_type": "code",
   "execution_count": 8,
   "metadata": {},
   "outputs": [],
   "source": [
    "st = Stack(\"/home/pi/Programs/python-programs/savartPhot/var/pipeline_config_files/config_stack.cfg\",\n",
    "           \"/home/pi/kolchoz/savarts/dane_suhora/2017-11-16/hd204827/\",\n",
    "           1, \"/home/pi/kolchoz/savarts/dane_suhora/2017-11-16/hd204827/output\")\n",
    "im_list = st._create_images_list(\"/home/pi/kolchoz/savarts/dane_suhora/2017-11-16/hd204827/\")\n",
    "st.process()"
   ]
  },
  {
   "cell_type": "code",
   "execution_count": null,
   "metadata": {},
   "outputs": [],
   "source": [
    "sp = Savartphot(\"/home/pi/Programs/python-programs/savartPhot/var/pipeline_config_files/config_savartphot.cfg\",\n",
    "                \"/home/pi/kolchoz/savarts/dane_suhora/2017-11-16/hd204827/output/\",\n",
    "                \"/home/pi/kolchoz/savarts/dane_suhora/2017-11-16/hd204827/coo.dat\",\n",
    "                \"/home/pi/kolchoz/savarts/dane_suhora/2017-11-16/hd204827/phot_output/\"\n",
    "               )"
   ]
  },
  {
   "cell_type": "code",
   "execution_count": null,
   "metadata": {
    "scrolled": true
   },
   "outputs": [],
   "source": [
    "sp.process()"
   ]
  },
  {
   "cell_type": "code",
   "execution_count": null,
   "metadata": {},
   "outputs": [],
   "source": [
    "#console\n",
    "listObjects /home/pi/Programs/python-programs/savartPhot/var/pipeline_config_files/config_list_objects.cfg /home/pi/kolchoz/savarts/dane_suhora/2017-11-16/all/\n",
    "stackSavart /home/pi/Programs/python-programs/savartPhot/var/pipeline_config_files/config_stack.cfg /home/pi/kolchoz/savarts/dane_suhora/2017-11-16/hd204827/ 8 /home/pi/kolchoz/savarts/dane_suhora/2017-11-16/hd204827/output\n",
    "photSavart /home/pi/Programs/python-programs/savartPhot/var/pipeline_config_files/config_savartphot.cfg /home/pi/kolchoz/savarts/dane_suhora/2017-11-16/hd204827/output/ /home/pi/kolchoz/savarts/dane_suhora/2017-11-16/hd204827/coo.dat /home/pi/kolchoz/savarts/dane_suhora/2017-11-16/hd204827/phot_output/"
   ]
  }
 ],
 "metadata": {
  "kernelspec": {
   "display_name": "Python 3",
   "language": "python",
   "name": "python3"
  },
  "language_info": {
   "codemirror_mode": {
    "name": "ipython",
    "version": 3
   },
   "file_extension": ".py",
   "mimetype": "text/x-python",
   "name": "python",
   "nbconvert_exporter": "python",
   "pygments_lexer": "ipython3",
   "version": "3.6.4"
  }
 },
 "nbformat": 4,
 "nbformat_minor": 2
}
