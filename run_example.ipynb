{
 "cells": [
  {
   "cell_type": "code",
   "execution_count": 21,
   "metadata": {},
   "outputs": [
    {
     "name": "stdout",
     "output_type": "stream",
     "text": [
      "The autoreload extension is already loaded. To reload it, use:\n",
      "  %reload_ext autoreload\n"
     ]
    }
   ],
   "source": [
    "%load_ext autoreload\n",
    "%autoreload 2\n",
    "%matplotlib inline\n",
    "from src.pipeline.list_objects import List_objects\n",
    "from src.pipeline.stack import Stack\n",
    "from src.pipeline.savartphot import Savartphot\n",
    "import matplotlib.pyplot as plt\n",
    "import numpy as np"
   ]
  },
  {
   "cell_type": "code",
   "execution_count": 12,
   "metadata": {},
   "outputs": [
    {
     "name": "stdout",
     "output_type": "stream",
     "text": [
      "HD183143: 316\n",
      "HD204827: 400\n",
      "Hiltner960: 200\n"
     ]
    }
   ],
   "source": [
    "l = List_objects(\"/home/pi/Programs/python-programs/savartPhot/var/pipeline_config_files/config_list_objects.cfg\",\n",
    "                 \"/home/pi/kolchoz/savarts/dane_suhora/2017-11-16/all/\")\n",
    "\n",
    "l.show_objects()"
   ]
  },
  {
   "cell_type": "code",
   "execution_count": 13,
   "metadata": {},
   "outputs": [],
   "source": [
    "st = Stack(\"/home/pi/Programs/python-programs/savartPhot/var/pipeline_config_files/config_stack.cfg\",\n",
    "           \"/home/pi/kolchoz/savarts/dane_suhora/2017-11-16/hd204827/\",\n",
    "           5, \"/home/pi/kolchoz/savarts/dane_suhora/2017-11-16/hd204827/output\")\n",
    "im_list = st._create_images_list(\"/home/pi/kolchoz/savarts/dane_suhora/2017-11-16/hd204827/\")\n",
    "st.process()"
   ]
  },
  {
   "cell_type": "code",
   "execution_count": 22,
   "metadata": {},
   "outputs": [],
   "source": [
    "sp = Savartphot(\"/home/pi/Programs/python-programs/savartPhot/var/pipeline_config_files/config_savartphot.cfg\",\n",
    "                \"/home/pi/kolchoz/savarts/dane_suhora/2017-11-16/hd204827/output/\",\n",
    "                \"/home/pi/kolchoz/savarts/dane_suhora/2017-11-16/hd204827/coo.dat\",\n",
    "                \"/home/pi/kolchoz/savarts/dane_suhora/2017-11-16/hd204827/phot_output/\"\n",
    "               )"
   ]
  },
  {
   "cell_type": "code",
   "execution_count": 23,
   "metadata": {
    "scrolled": true
   },
   "outputs": [
    {
     "data": {
      "text/plain": [
       "<matplotlib.figure.Figure at 0x7fd61f2561d0>"
      ]
     },
     "metadata": {},
     "output_type": "display_data"
    },
    {
     "data": {
      "text/plain": [
       "<matplotlib.figure.Figure at 0x7fd63039df28>"
      ]
     },
     "metadata": {},
     "output_type": "display_data"
    },
    {
     "data": {
      "text/plain": [
       "<matplotlib.figure.Figure at 0x7fd61f153908>"
      ]
     },
     "metadata": {},
     "output_type": "display_data"
    }
   ],
   "source": [
    "sp.process()"
   ]
  },
  {
   "cell_type": "code",
   "execution_count": null,
   "metadata": {},
   "outputs": [],
   "source": [
    "#console\n",
    "listObjects /home/pi/Programs/python-programs/savartPhot/var/pipeline_config_files/config_list_objects.cfg /home/pi/kolchoz/savarts/dane_suhora/2017-11-16/all/\n",
    "stackSavart /home/pi/Programs/python-programs/savartPhot/var/pipeline_config_files/config_stack.cfg /home/pi/kolchoz/savarts/dane_suhora/2017-11-16/hd204827/ 8 /home/pi/kolchoz/savarts/dane_suhora/2017-11-16/hd204827/output\n",
    "photSavart /home/pi/Programs/python-programs/savartPhot/var/pipeline_config_files/config_savartphot.cfg /home/pi/kolchoz/savarts/dane_suhora/2017-11-16/hd204827/output/ /home/pi/kolchoz/savarts/dane_suhora/2017-11-16/hd204827/coo.dat /home/pi/kolchoz/savarts/dane_suhora/2017-11-16/hd204827/phot_output/"
   ]
  }
 ],
 "metadata": {
  "kernelspec": {
   "display_name": "Python [conda env:savart]",
   "language": "python",
   "name": "conda-env-savart-py"
  },
  "language_info": {
   "codemirror_mode": {
    "name": "ipython",
    "version": 3
   },
   "file_extension": ".py",
   "mimetype": "text/x-python",
   "name": "python",
   "nbconvert_exporter": "python",
   "pygments_lexer": "ipython3",
   "version": "3.6.4"
  }
 },
 "nbformat": 4,
 "nbformat_minor": 2
}
