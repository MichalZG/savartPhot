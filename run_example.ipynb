{
 "cells": [
  {
   "cell_type": "code",
   "execution_count": 17,
   "metadata": {},
   "outputs": [
    {
     "name": "stdout",
     "output_type": "stream",
     "text": [
      "The autoreload extension is already loaded. To reload it, use:\n",
      "  %reload_ext autoreload\n"
     ]
    }
   ],
   "source": [
    "%load_ext autoreload\n",
    "%autoreload 2\n",
    "%matplotlib inline\n",
    "from src.pipeline.list_objects import List_objects\n",
    "from src.pipeline.stack import Stack\n",
    "from src.pipeline.savartphot import Savartphot\n",
    "import matplotlib.pyplot as plt\n",
    "import numpy as np"
   ]
  },
  {
   "cell_type": "code",
   "execution_count": 48,
   "metadata": {},
   "outputs": [],
   "source": [
    "l = List_objects(\"/home/pi/Programs/python-programs/savartPhot/var/pipeline_config_files/config_list_objects.cfg\",\"/home/pi/kolchoz/savarts/dane_suhora/2017-11-16/all/\")\n",
    "l.show_objects()\n",
    "l.create_stars_list()\n",
    "st = Stack(\"/home/pi/Programs/python-programs/savartPhot/var/pipeline_config_files/config_stack.cfg\",\n",
    "           \"/home/pi/kolchoz/savarts/dane_suhora/2017-11-16/vicyg/\",\n",
    "           8, \"/home/pi/kolchoz/savarts/dane_suhora/2017-11-16/vicyg/output\", log_file_name='stack')\n",
    "im_list = st._create_images_list(\"/home/pi/kolchoz/savarts/dane_suhora/2017-11-16/vicyg/\")\n",
    "st.process()"
   ]
  },
  {
   "cell_type": "code",
   "execution_count": 11,
   "metadata": {},
   "outputs": [],
   "source": [
    "sp = Savartphot(\"/home/pi/Programs/python-programs/savartPhot/var/pipeline_config_files/config_savartphot.cfg\",\n",
    "                \"/home/pi/kolchoz/savarts/dane_suhora/2017-11-16/vicyg/output/\",\n",
    "                \"/home/pi/kolchoz/savarts/dane_suhora/2017-11-16/vicyg/output/coo.dat\",\n",
    "                \"/home/pi/kolchoz/savarts/dane_suhora/2017-11-16/vicyg/phot_output/\"\n",
    "               )"
   ]
  },
  {
   "cell_type": "code",
   "execution_count": 12,
   "metadata": {
    "scrolled": true
   },
   "outputs": [
    {
     "name": "stderr",
     "output_type": "stream",
     "text": [
      "WARNING: AstropyDeprecationWarning: The properties_table function is deprecated and may be removed in a future version.\n",
      "        Use SourceCatalog.to_table() instead. [src.pipeline.savartphot]\n"
     ]
    },
    {
     "data": {
      "text/plain": [
       "<matplotlib.figure.Figure at 0x7f36f1277748>"
      ]
     },
     "metadata": {},
     "output_type": "display_data"
    },
    {
     "data": {
      "text/plain": [
       "<matplotlib.figure.Figure at 0x7f36f10f9828>"
      ]
     },
     "metadata": {},
     "output_type": "display_data"
    }
   ],
   "source": [
    "sp.process()"
   ]
  },
  {
   "cell_type": "code",
   "execution_count": null,
   "metadata": {},
   "outputs": [],
   "source": [
    "tab = np.loadtxt('/home/pi/kolchoz/savarts/dane_suhora/2017-11-16/test/phot_output/PD.csv', delimiter=',')"
   ]
  },
  {
   "cell_type": "code",
   "execution_count": null,
   "metadata": {},
   "outputs": [],
   "source": [
    "tab[:,0]"
   ]
  },
  {
   "cell_type": "code",
   "execution_count": null,
   "metadata": {},
   "outputs": [],
   "source": [
    "plt.rcParams['figure.figsize'] = 10, 5\n",
    "\n",
    "fig = plt.figure()\n",
    "ax = fig.add_subplot(111)\n",
    "mean = [np.mean(tab[:,1])]*len(tab[:,0])\n",
    "std = [np.std(tab[:,1])]*len(tab[:,0])\n",
    "ax.errorbar(tab[:,0], tab[:,1], yerr=tab[:,2], fmt='o')\n",
    "ax.plot(tab[:,0], mean, label='Mean={:.2f}'.format(np.mean(tab[:,1])), linestyle='--', c='r')\n",
    "ax.plot(tab[:,0], mean-np.std(tab[:,1]), linestyle='--', c='k')\n",
    "ax.plot(tab[:,0], mean+np.std(tab[:,1]), label='std={:.2f}'.format(np.std(tab[:,1])), linestyle='--', c='k')\n",
    "ax.set_xlabel('JD')\n",
    "ax.set_ylabel('PD[%]')\n",
    "plt.legend(loc='upper right')"
   ]
  },
  {
   "cell_type": "code",
   "execution_count": null,
   "metadata": {},
   "outputs": [],
   "source": []
  },
  {
   "cell_type": "code",
   "execution_count": null,
   "metadata": {},
   "outputs": [],
   "source": []
  },
  {
   "cell_type": "code",
   "execution_count": null,
   "metadata": {},
   "outputs": [],
   "source": []
  },
  {
   "cell_type": "code",
   "execution_count": null,
   "metadata": {},
   "outputs": [],
   "source": []
  },
  {
   "cell_type": "code",
   "execution_count": null,
   "metadata": {},
   "outputs": [],
   "source": []
  },
  {
   "cell_type": "code",
   "execution_count": null,
   "metadata": {},
   "outputs": [],
   "source": []
  },
  {
   "cell_type": "code",
   "execution_count": null,
   "metadata": {},
   "outputs": [],
   "source": []
  }
 ],
 "metadata": {
  "kernelspec": {
   "display_name": "Python 3",
   "language": "python",
   "name": "python3"
  },
  "language_info": {
   "codemirror_mode": {
    "name": "ipython",
    "version": 3
   },
   "file_extension": ".py",
   "mimetype": "text/x-python",
   "name": "python",
   "nbconvert_exporter": "python",
   "pygments_lexer": "ipython3",
   "version": "3.6.4"
  }
 },
 "nbformat": 4,
 "nbformat_minor": 2
}
