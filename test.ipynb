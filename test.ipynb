{
 "cells": [
  {
   "cell_type": "code",
   "execution_count": 159,
   "metadata": {},
   "outputs": [
    {
     "name": "stdout",
     "output_type": "stream",
     "text": [
      "The autoreload extension is already loaded. To reload it, use:\n",
      "  %reload_ext autoreload\n"
     ]
    }
   ],
   "source": [
    "%load_ext autoreload\n",
    "%autoreload 2\n",
    "\n",
    "from src.pipeline.list_objects import List_objects\n",
    "from src.pipeline.stack import Stack"
   ]
  },
  {
   "cell_type": "code",
   "execution_count": 7,
   "metadata": {},
   "outputs": [
    {
     "name": "stdout",
     "output_type": "stream",
     "text": [
      "HD183143: 316\n",
      "HD204827: 400\n",
      "Hiltner960: 200\n"
     ]
    }
   ],
   "source": [
    "l = List_objects(\"/home/pi/Programs/python-programs/savartPhot/var/pipeline_config_files/config_list_objects.cfg\")\n",
    "l.show_objects(\"/home/pi/kolchoz/savarts/dane_suhora/2017-11-16/all/\")"
   ]
  },
  {
   "cell_type": "code",
   "execution_count": 85,
   "metadata": {},
   "outputs": [
    {
     "data": {
      "text/plain": [
       "{'HD183143': <src.utils.model.Star at 0x7fa3da2aebe0>,\n",
       " 'HD204827': <src.utils.model.Star at 0x7fa3d42ac7f0>,\n",
       " 'Hiltner960': <src.utils.model.Star at 0x7fa3d42ac6a0>}"
      ]
     },
     "execution_count": 85,
     "metadata": {},
     "output_type": "execute_result"
    }
   ],
   "source": [
    "l.create_stars_list(\"/home/pi/kolchoz/savarts/dane_suhora/2017-11-16/all/\")"
   ]
  },
  {
   "cell_type": "code",
   "execution_count": 160,
   "metadata": {},
   "outputs": [],
   "source": [
    "st = Stack(\"/home/pi/Programs/python-programs/savartPhot/var/pipeline_config_files/config_stack.cfg\",\n",
    "           \"/home/pi/kolchoz/savarts/dane_suhora/2017-11-16/test/\",\n",
    "           4, \"/home/pi/kolchoz/savarts/dane_suhora/2017-11-16/test/output\", log_file_name='stack')"
   ]
  },
  {
   "cell_type": "code",
   "execution_count": 161,
   "metadata": {},
   "outputs": [],
   "source": [
    "im_list = st._create_images_list(\"/home/pi/kolchoz/savarts/dane_suhora/2017-11-16/test/\")\n",
    "#"
   ]
  },
  {
   "cell_type": "code",
   "execution_count": 162,
   "metadata": {},
   "outputs": [
    {
     "data": {
      "text/plain": [
       "[<src.utils.model.Image at 0x7f93e4a24550>,\n",
       " <src.utils.model.Image at 0x7f93e37fa7f0>,\n",
       " <src.utils.model.Image at 0x7f93e37fa588>,\n",
       " <src.utils.model.Image at 0x7f93e3753ba8>,\n",
       " <src.utils.model.Image at 0x7f93e380ccc0>,\n",
       " <src.utils.model.Image at 0x7f93e375ffd0>,\n",
       " <src.utils.model.Image at 0x7f93e3762588>,\n",
       " <src.utils.model.Image at 0x7f93e3764cf8>,\n",
       " <src.utils.model.Image at 0x7f93e3766b70>,\n",
       " <src.utils.model.Image at 0x7f93e375f198>,\n",
       " <src.utils.model.Image at 0x7f93e3a109b0>,\n",
       " <src.utils.model.Image at 0x7f93e3a17f60>,\n",
       " <src.utils.model.Image at 0x7f93e3a18dd8>,\n",
       " <src.utils.model.Image at 0x7f93e3a265f8>,\n",
       " <src.utils.model.Image at 0x7f93e37edb38>,\n",
       " <src.utils.model.Image at 0x7f93e37f6940>,\n",
       " <src.utils.model.Image at 0x7f93e37fc7b8>,\n",
       " <src.utils.model.Image at 0x7f93e3808d68>,\n",
       " <src.utils.model.Image at 0x7f93e3848be0>,\n",
       " <src.utils.model.Image at 0x7f93e37fcef0>,\n",
       " <src.utils.model.Image at 0x7f93e3b75d30>,\n",
       " <src.utils.model.Image at 0x7f93e3a0b208>,\n",
       " <src.utils.model.Image at 0x7f93e3b83cf8>,\n",
       " <src.utils.model.Image at 0x7f93e3cec3c8>,\n",
       " <src.utils.model.Image at 0x7f93e3efb940>,\n",
       " <src.utils.model.Image at 0x7f93e390a9b0>,\n",
       " <src.utils.model.Image at 0x7f93e3fb1ac8>,\n",
       " <src.utils.model.Image at 0x7f93e43ddda0>,\n",
       " <src.utils.model.Image at 0x7f93e3fb1b00>,\n",
       " <src.utils.model.Image at 0x7f93e45a2208>,\n",
       " <src.utils.model.Image at 0x7f93ddcc7f98>,\n",
       " <src.utils.model.Image at 0x7f93e4654048>,\n",
       " <src.utils.model.Image at 0x7f93e464edd8>,\n",
       " <src.utils.model.Image at 0x7f93e42a05c0>,\n",
       " <src.utils.model.Image at 0x7f93e43d7dd8>]"
      ]
     },
     "execution_count": 162,
     "metadata": {},
     "output_type": "execute_result"
    }
   ],
   "source": [
    "im_list"
   ]
  },
  {
   "cell_type": "code",
   "execution_count": 163,
   "metadata": {},
   "outputs": [],
   "source": [
    "im = im_list[0]"
   ]
  },
  {
   "cell_type": "code",
   "execution_count": null,
   "metadata": {},
   "outputs": [],
   "source": []
  },
  {
   "cell_type": "code",
   "execution_count": 164,
   "metadata": {},
   "outputs": [
    {
     "name": "stderr",
     "output_type": "stream",
     "text": [
      "WARNING: AstropyDeprecationWarning: \"clobber\" was deprecated in version 2.0 and will be removed in a future version. Use argument \"overwrite\" instead. [astropy.nddata.ccddata]\n",
      "WARNING: VerifyWarning: Verification reported errors: [astropy.io.fits.verify]\n",
      "WARNING: VerifyWarning: HDU 0: [astropy.io.fits.verify]\n",
      "WARNING: VerifyWarning:     'SIMPLE' card does not exist.  Fixed by inserting a new 'SIMPLE' card. [astropy.io.fits.verify]\n",
      "WARNING: VerifyWarning:     'BITPIX' card at the wrong place (card 2).  Fixed by moving it to the right place (card 1). [astropy.io.fits.verify]\n",
      "WARNING: VerifyWarning:     'NAXIS' card at the wrong place (card 3).  Fixed by moving it to the right place (card 2). [astropy.io.fits.verify]\n",
      "WARNING: VerifyWarning:     'NAXIS1' card at the wrong place (card 4).  Fixed by moving it to the right place (card 3). [astropy.io.fits.verify]\n",
      "WARNING: VerifyWarning:     'NAXIS2' card at the wrong place (card 5).  Fixed by moving it to the right place (card 4). [astropy.io.fits.verify]\n",
      "WARNING: VerifyWarning: Note: astropy.io.fits uses zero-based indexing.\n",
      " [astropy.io.fits.verify]\n"
     ]
    }
   ],
   "source": [
    "st.process()"
   ]
  },
  {
   "cell_type": "code",
   "execution_count": 78,
   "metadata": {},
   "outputs": [
    {
     "name": "stderr",
     "output_type": "stream",
     "text": [
      "WARNING: AstropyDeprecationWarning: \"clobber\" was deprecated in version 2.0 and will be removed in a future version. Use argument \"overwrite\" instead. [astropy.nddata.ccddata]\n",
      "WARNING: VerifyWarning: Verification reported errors: [astropy.io.fits.verify]\n",
      "WARNING: VerifyWarning: HDU 0: [astropy.io.fits.verify]\n",
      "WARNING: VerifyWarning:     'SIMPLE' card does not exist.  Fixed by inserting a new 'SIMPLE' card. [astropy.io.fits.verify]\n",
      "WARNING: VerifyWarning:     'BITPIX' card at the wrong place (card 2).  Fixed by moving it to the right place (card 1). [astropy.io.fits.verify]\n",
      "WARNING: VerifyWarning:     'NAXIS' card at the wrong place (card 3).  Fixed by moving it to the right place (card 2). [astropy.io.fits.verify]\n",
      "WARNING: VerifyWarning:     'NAXIS1' card at the wrong place (card 4).  Fixed by moving it to the right place (card 3). [astropy.io.fits.verify]\n",
      "WARNING: VerifyWarning:     'NAXIS2' card at the wrong place (card 5).  Fixed by moving it to the right place (card 4). [astropy.io.fits.verify]\n",
      "WARNING: VerifyWarning: Note: astropy.io.fits uses zero-based indexing.\n",
      " [astropy.io.fits.verify]\n"
     ]
    }
   ],
   "source": []
  },
  {
   "cell_type": "code",
   "execution_count": 79,
   "metadata": {},
   "outputs": [
    {
     "name": "stdout",
     "output_type": "stream",
     "text": [
      "P1 [<src.utils.model.Image object at 0x7f93e4349240>, <src.utils.model.Image object at 0x7f93e48eebe0>, <src.utils.model.Image object at 0x7f93e48f15c0>, <src.utils.model.Image object at 0x7f93e494e780>, <src.utils.model.Image object at 0x7f93e48db630>, <src.utils.model.Image object at 0x7f93e495dd30>, <src.utils.model.Image object at 0x7f93e444e2e8>, <src.utils.model.Image object at 0x7f93e48fdd68>, <src.utils.model.Image object at 0x7f93e42e55f8>]\n",
      "P2 [<src.utils.model.Image object at 0x7f93e443c588>, <src.utils.model.Image object at 0x7f93e4440cf8>, <src.utils.model.Image object at 0x7f93e4447b70>, <src.utils.model.Image object at 0x7f93e42e5e80>, <src.utils.model.Image object at 0x7f93e426b9b0>, <src.utils.model.Image object at 0x7f93e4272f60>, <src.utils.model.Image object at 0x7f93e4279dd8>, <src.utils.model.Image object at 0x7f93e4280c50>, <src.utils.model.Image object at 0x7f93e4284ac8>]\n"
     ]
    }
   ],
   "source": []
  },
  {
   "cell_type": "code",
   "execution_count": null,
   "metadata": {},
   "outputs": [],
   "source": []
  }
 ],
 "metadata": {
  "kernelspec": {
   "display_name": "Python [conda env:savart]",
   "language": "python",
   "name": "conda-env-savart-py"
  },
  "language_info": {
   "codemirror_mode": {
    "name": "ipython",
    "version": 3
   },
   "file_extension": ".py",
   "mimetype": "text/x-python",
   "name": "python",
   "nbconvert_exporter": "python",
   "pygments_lexer": "ipython3",
   "version": "3.6.4"
  }
 },
 "nbformat": 4,
 "nbformat_minor": 2
}
