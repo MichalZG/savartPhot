{
 "cells": [
  {
   "cell_type": "code",
   "execution_count": 157,
   "metadata": {},
   "outputs": [
    {
     "name": "stdout",
     "output_type": "stream",
     "text": [
      "The autoreload extension is already loaded. To reload it, use:\n",
      "  %reload_ext autoreload\n"
     ]
    }
   ],
   "source": [
    "%load_ext autoreload\n",
    "%autoreload 2\n",
    "%matplotlib inline\n",
    "from src.pipeline.list_objects import List_objects\n",
    "from src.pipeline.stack import Stack\n",
    "from src.pipeline.savartphot import Savartphot\n",
    "import matplotlib.pyplot as plt\n",
    "import numpy as np"
   ]
  },
  {
   "cell_type": "code",
   "execution_count": 158,
   "metadata": {},
   "outputs": [],
   "source": [
    "#l = List_objects(\"/home/pi/Programs/python-programs/savartPhot/var/pipeline_config_files/config_list_objects.cfg\")\n",
    "#l.show_objects(\"/home/pi/kolchoz/savarts/dane_suhora/2017-11-16/all/\")\n",
    "#l.create_stars_list(\"/home/pi/kolchoz/savarts/dane_suhora/2017-11-16/all/\")\n",
    "st = Stack(\"/home/pi/Programs/python-programs/savartPhot/var/pipeline_config_files/config_stack.cfg\",\n",
    "           \"/home/pi/kolchoz/savarts/dane_suhora/2017-11-16/hd204827/\",\n",
    "           32, \"/home/pi/kolchoz/savarts/dane_suhora/2017-11-16/hd204827/output\", log_file_name='stack')\n",
    "im_list = st._create_images_list(\"/home/pi/kolchoz/savarts/dane_suhora/2017-11-16/hd204827/\")\n",
    "st.process()"
   ]
  },
  {
   "cell_type": "code",
   "execution_count": 160,
   "metadata": {},
   "outputs": [],
   "source": [
    "sp = Savartphot(\"/home/pi/Programs/python-programs/savartPhot/var/pipeline_config_files/config_savartphot.cfg\",\n",
    "                \"/home/pi/kolchoz/savarts/dane_suhora/2017-11-16/hd204827/output/\",\n",
    "                \"/home/pi/kolchoz/savarts/dane_suhora/2017-11-16/hd204827/output/coo.dat\",\n",
    "                \"/home/pi/kolchoz/savarts/dane_suhora/2017-11-16/hd204827/phot_output/\"\n",
    "               )"
   ]
  },
  {
   "cell_type": "code",
   "execution_count": 161,
   "metadata": {
    "scrolled": true
   },
   "outputs": [
    {
     "name": "stderr",
     "output_type": "stream",
     "text": [
      "WARNING: AstropyDeprecationWarning: The properties_table function is deprecated and may be removed in a future version.\n",
      "        Use SourceCatalog.to_table() instead. [src.pipeline.savartphot]\n"
     ]
    },
    {
     "name": "stdout",
     "output_type": "stream",
     "text": [
      "i:1, a:14.875069784177288 pix, b:12.323326332924307 pix, pos:514.8080284106779,517.725459877898\n",
      "i:2, a:15.177256959982053 pix, b:12.912336519711117 pix, pos:542.2963134745597,489.4201137130922\n",
      "i:1, a:14.048914399008687 pix, b:11.657409723648902 pix, pos:514.6536205944516,517.5176983567852\n",
      "i:2, a:13.96596992662438 pix, b:12.209538605062878 pix, pos:542.1080629456293,489.1661777177498\n",
      "i:1, a:14.751730239172693 pix, b:12.195149572563977 pix, pos:514.4817734591252,517.2726948692094\n",
      "i:2, a:14.774913874187884 pix, b:12.437490597615232 pix, pos:541.9909029209431,489.0273900145617\n",
      "i:1, a:14.853943274948946 pix, b:12.716941778586653 pix, pos:523.977805974322,508.6159763804444\n",
      "i:2, a:14.972105560103298 pix, b:12.429920000457189 pix, pos:524.8906145122093,469.3637839535768\n",
      "i:1, a:14.920168630502578 pix, b:12.103765714066256 pix, pos:523.9931897932485,508.25811845113645\n",
      "i:2, a:14.475047637578168 pix, b:12.07534491039782 pix, pos:524.8957293930271,469.11032483784487\n",
      "i:1, a:14.332535613957521 pix, b:12.850826785605626 pix, pos:523.7021645289558,508.1312982532143\n",
      "i:2, a:15.197894269051563 pix, b:12.421100059705008 pix, pos:524.5793493616619,468.9519378529783\n"
     ]
    },
    {
     "data": {
      "text/plain": [
       "<matplotlib.figure.Figure at 0x7f4bcae12390>"
      ]
     },
     "metadata": {},
     "output_type": "display_data"
    },
    {
     "data": {
      "text/plain": [
       "<matplotlib.figure.Figure at 0x7f4bcb9769e8>"
      ]
     },
     "metadata": {},
     "output_type": "display_data"
    },
    {
     "data": {
      "text/plain": [
       "<matplotlib.figure.Figure at 0x7f4bc9d8c898>"
      ]
     },
     "metadata": {},
     "output_type": "display_data"
    }
   ],
   "source": [
    "sp.make_phot()"
   ]
  },
  {
   "cell_type": "code",
   "execution_count": 71,
   "metadata": {},
   "outputs": [],
   "source": [
    "tab = np.loadtxt('/home/pi/kolchoz/savarts/dane_suhora/2017-11-16/test/phot_output/PD.csv', delimiter=',')"
   ]
  },
  {
   "cell_type": "code",
   "execution_count": 72,
   "metadata": {},
   "outputs": [
    {
     "data": {
      "text/plain": [
       "array([2458074.189574 , 2458074.1905055, 2458074.1926015, 2458074.194697 ])"
      ]
     },
     "execution_count": 72,
     "metadata": {},
     "output_type": "execute_result"
    }
   ],
   "source": [
    "tab[:,0]"
   ]
  },
  {
   "cell_type": "code",
   "execution_count": 87,
   "metadata": {},
   "outputs": [
    {
     "data": {
      "text/plain": [
       "<matplotlib.legend.Legend at 0x7f4bd0453470>"
      ]
     },
     "execution_count": 87,
     "metadata": {},
     "output_type": "execute_result"
    },
    {
     "data": {
      "image/png": "[encoded data removed]",
      "text/plain": [
       "<matplotlib.figure.Figure at 0x7f4bd0282278>"
      ]
     },
     "metadata": {},
     "output_type": "display_data"
    }
   ],
   "source": [
    "plt.rcParams['figure.figsize'] = 10, 5\n",
    "\n",
    "fig = plt.figure()\n",
    "ax = fig.add_subplot(111)\n",
    "mean = [np.mean(tab[:,1])]*len(tab[:,0])\n",
    "std = [np.std(tab[:,1])]*len(tab[:,0])\n",
    "ax.errorbar(tab[:,0], tab[:,1], yerr=tab[:,2], fmt='o')\n",
    "ax.plot(tab[:,0], mean, label='Mean={:.2f}'.format(np.mean(tab[:,1])), linestyle='--', c='r')\n",
    "ax.plot(tab[:,0], mean-np.std(tab[:,1]), linestyle='--', c='k')\n",
    "ax.plot(tab[:,0], mean+np.std(tab[:,1]), label='std={:.2f}'.format(np.std(tab[:,1])), linestyle='--', c='k')\n",
    "ax.set_xlabel('JD')\n",
    "ax.set_ylabel('PD[%]')\n",
    "plt.legend(loc='upper right')"
   ]
  },
  {
   "cell_type": "code",
   "execution_count": null,
   "metadata": {},
   "outputs": [],
   "source": []
  },
  {
   "cell_type": "code",
   "execution_count": null,
   "metadata": {},
   "outputs": [],
   "source": []
  },
  {
   "cell_type": "code",
   "execution_count": null,
   "metadata": {},
   "outputs": [],
   "source": []
  },
  {
   "cell_type": "code",
   "execution_count": null,
   "metadata": {},
   "outputs": [],
   "source": []
  },
  {
   "cell_type": "code",
   "execution_count": null,
   "metadata": {},
   "outputs": [],
   "source": []
  },
  {
   "cell_type": "code",
   "execution_count": null,
   "metadata": {},
   "outputs": [],
   "source": []
  },
  {
   "cell_type": "code",
   "execution_count": null,
   "metadata": {},
   "outputs": [],
   "source": []
  }
 ],
 "metadata": {
  "kernelspec": {
   "display_name": "Python 3",
   "language": "python",
   "name": "python3"
  },
  "language_info": {
   "codemirror_mode": {
    "name": "ipython",
    "version": 3
   },
   "file_extension": ".py",
   "mimetype": "text/x-python",
   "name": "python",
   "nbconvert_exporter": "python",
   "pygments_lexer": "ipython3",
   "version": "3.6.4"
  }
 },
 "nbformat": 4,
 "nbformat_minor": 2
}
